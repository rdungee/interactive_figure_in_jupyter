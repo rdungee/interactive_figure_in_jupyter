{
 "cells": [
  {
   "cell_type": "code",
   "execution_count": 1,
   "metadata": {},
   "outputs": [],
   "source": [
    "from os import getcwd\n",
    "\n",
    "import hdbscan\n",
    "import matplotlib as mpl\n",
    "import matplotlib.colors as clr\n",
    "import matplotlib.image as img\n",
    "import matplotlib.pyplot as plt\n",
    "import numpy as np\n",
    "import numpy.ma as ma\n",
    "\n",
    "from astropy.table import Table, Column\n",
    "from matplotlib.ticker import MultipleLocator\n",
    "from scipy.interpolate import interp1d\n",
    "from scipy.optimize import minimize\n",
    "from scipy.spatial import cKDTree\n",
    "\n",
    "import megacamlc as mlc\n",
    "\n",
    "%matplotlib widget"
   ]
  },
  {
   "cell_type": "code",
   "execution_count": 2,
   "metadata": {},
   "outputs": [],
   "source": [
    "fonts = {'family': 'sans',\n",
    "         'weight': 'normal',\n",
    "         'size'  : 16}\n",
    "mpl.rc('font', **fonts)\n",
    "mpl.rc('legend', fontsize=14)"
   ]
  },
  {
   "cell_type": "code",
   "execution_count": 3,
   "metadata": {},
   "outputs": [],
   "source": [
    "apsize = 2.0\n",
    "basedir = getcwd().split(\"/\")\n",
    "basedir = \"/\".join(basedir[:-1])\n",
    "config = mlc.Config(basedir, \"M67\", f'apsize_{apsize:.02f}', apsize)"
   ]
  },
  {
   "cell_type": "code",
   "execution_count": 4,
   "metadata": {},
   "outputs": [
    {
     "data": {
      "text/plain": [
       "PosixPath('/home/ryan/thesis/cluster/data/M67reduce/apsize_2.00')"
      ]
     },
     "execution_count": 4,
     "metadata": {},
     "output_type": "execute_result"
    }
   ],
   "source": [
    "config.analysis"
   ]
  },
  {
   "cell_type": "code",
   "execution_count": 5,
   "metadata": {},
   "outputs": [],
   "source": [
    "allcat = Table.read('../catalogs/M67_allcat.ecsv')\n",
    "m67 = Table.read('periodograms_clipped.ecsv')"
   ]
  },
  {
   "cell_type": "code",
   "execution_count": 6,
   "metadata": {},
   "outputs": [
    {
     "name": "stdout",
     "output_type": "stream",
     "text": [
      "['gaia_ID', 'lc_period', 'lc_FAP', 'peakratio0', 'peakratio1', 'period1', 'period2', 'see_period', 'see_FAP', 'zpc_period', 'zpc_FAP']\n",
      "['source_id', 'ra', 'ra_error', 'dec', 'dec_error', 'parallax', 'parallax_error', 'pmra', 'pmra_error', 'pmdec', 'pmdec_error', 'ruwe', 'phot_g_mean_mag', 'phot_bp_mean_mag', 'phot_rp_mean_mag', 'g', 'r', 'i', 'z', 'g_err', 'r_err', 'i_err', 'z_err', 'prob_kine', 'main_seq', 'binary']\n"
     ]
    }
   ],
   "source": [
    "overlap, e78i, alli = np.intersect1d(np.array(m67['gaia_ID']), np.array(allcat['source_id']), return_indices=True)\n",
    "allcat = allcat[alli]\n",
    "m67 = m67[e78i]\n",
    "\n",
    "print(m67.colnames)\n",
    "print(allcat.colnames)"
   ]
  },
  {
   "cell_type": "code",
   "execution_count": 7,
   "metadata": {},
   "outputs": [],
   "source": [
    "lowfap_allcat = allcat[m67['lc_FAP'] <= 1.]\n",
    "lowfap_m67 = m67[m67['lc_FAP'] <= 1.]\n",
    "\n",
    "lowfap_m67 = lowfap_m67[lowfap_allcat['prob_kine'] >= 0.5]\n",
    "lowfap_allcat = lowfap_allcat[lowfap_allcat['prob_kine'] >= 0.5]\n",
    "\n",
    "lowfap_allcat = lowfap_allcat[lowfap_m67['peakratio0'] <= 1.1]\n",
    "lowfap_m67 = lowfap_m67[lowfap_m67['peakratio0'] <= 1.1]"
   ]
  },
  {
   "cell_type": "code",
   "execution_count": 8,
   "metadata": {},
   "outputs": [],
   "source": [
    "absG = lowfap_allcat['phot_g_mean_mag'] + 5*(1 + np.log10(1.13/1000))\n",
    "rots = lowfap_m67['lc_period']\n",
    "probs = lowfap_allcat['prob_kine']\n",
    "faps = lowfap_m67['lc_FAP']"
   ]
  },
  {
   "cell_type": "code",
   "execution_count": 12,
   "metadata": {},
   "outputs": [],
   "source": [
    "plotdata = np.c_[np.array(absG), np.array(rots)]\n",
    "figuretree = cKDTree(plotdata)"
   ]
  },
  {
   "cell_type": "code",
   "execution_count": 14,
   "metadata": {},
   "outputs": [
    {
     "data": {
      "application/vnd.jupyter.widget-view+json": {
       "model_id": "fe25c1ac5ac04d1e9c01f03c7e9f066e",
       "version_major": 2,
       "version_minor": 0
      },
      "text/plain": [
       "Canvas(toolbar=Toolbar(toolitems=[('Home', 'Reset original view', 'home', 'home'), ('Back', 'Back to previous …"
      ]
     },
     "metadata": {},
     "output_type": "display_data"
    }
   ],
   "source": [
    "fig = plt.figure(figsize=(12, 6))\n",
    "ax0 = fig.add_subplot(221)\n",
    "ax0.set_position([0.09, 0.15, 0.385, 0.7])\n",
    "ax1 = fig.add_subplot(222)\n",
    "ax1.set_position([0.54, 0.15, 0.385, 0.7])\n",
    "cax = fig.add_subplot(223)\n",
    "cax.set_position([0.09, 0.87, 0.385, 0.02])\n",
    "\n",
    "ax1.tick_params(axis='both', which='both', bottom=False, left=False, labelbottom=False, labelleft=False)\n",
    "\n",
    "ax0.tick_params(which='minor', length=2)\n",
    "ax0.tick_params(which='major', length=4)\n",
    "ax0.tick_params(which='both', direction='in')\n",
    "ax0.yaxis.set_minor_locator(MultipleLocator(2))\n",
    "ax0.xaxis.set_minor_locator(MultipleLocator(0.5))\n",
    "\n",
    "ax0.set_ylabel(\"Period [days]\")\n",
    "ax0.set_xlabel(\"Absolute G [mag]\")\n",
    "im = ax0.scatter(absG, rots, c=lowfap_m67['peakratio0'], s=8, cmap='copper')\n",
    "ax0.set_ylim(15, 65)\n",
    "ax0.set_xlim(6.5, 11.)\n",
    "\n",
    "def onclick(event):\n",
    "    clickpoint = np.array([event.xdata, event.ydata])\n",
    "    d, i = figuretree.query(clickpoint)\n",
    "    gid = lowfap_allcat['source_id'][i]\n",
    "    periodogramf = config.analysis / f'periodograms_clipped/mags/{gid}_mags.png'\n",
    "    im = img.imread(periodogramf)\n",
    "    ax1.imshow(im)\n",
    "\n",
    "cid = fig.canvas.mpl_connect('button_press_event', onclick)\n",
    "\n",
    "cbar = fig.colorbar(im, cax=cax, orientation=\"horizontal\")\n",
    "cbar.ax.xaxis.set_ticks_position('top')\n",
    "cbar.ax.xaxis.set_label_position('top')\n",
    "cbar.set_label(\"Peak Ratio\")"
   ]
  },
  {
   "cell_type": "code",
   "execution_count": 78,
   "metadata": {},
   "outputs": [
    {
     "data": {
      "text/html": [
       "<i>Table length=15</i>\n",
       "<table id=\"table140405765730144\" class=\"table-striped table-bordered table-condensed\">\n",
       "<thead><tr><th>gaia_ID</th><th>lc_period</th><th>lc_FAP</th><th>peakratio0</th><th>peakratio1</th><th>period1</th><th>period2</th><th>see_period</th><th>see_FAP</th><th>zpc_period</th><th>zpc_FAP</th></tr></thead>\n",
       "<thead><tr><th>int64</th><th>float64</th><th>float64</th><th>float64</th><th>float64</th><th>float64</th><th>float64</th><th>float64</th><th>float64</th><th>float64</th><th>float64</th></tr></thead>\n",
       "<tr><td>598903090297061760</td><td>22.23654941680784</td><td>0.009999999999998899</td><td>1.024819869382259</td><td>1.182035940887628</td><td>23.03761946704426</td><td>47.74645293136707</td><td>11.484785734353254</td><td>0.990000000000002</td><td>635.1969956153838</td><td>0.0</td></tr>\n",
       "<tr><td>604711505283863808</td><td>4.9505761049160615</td><td>0.0</td><td>1.0851413660135683</td><td>1.3251656089007908</td><td>4.911706485248626</td><td>4.9822378080125445</td><td>11.491178601447244</td><td>4.169999999999996</td><td>645.1219486718742</td><td>0.0</td></tr>\n",
       "<tr><td>604895467323840256</td><td>13.590455798222496</td><td>0.039999999999995595</td><td>1.0887644220375357</td><td>1.4032936727886147</td><td>13.140612576384452</td><td>13.892262690107653</td><td>11.484785734353254</td><td>1.1099999999999999</td><td>655.3619796031737</td><td>0.0</td></tr>\n",
       "<tr><td>604898113023653888</td><td>11.656636000846964</td><td>0.019999999999997797</td><td>1.0773734633509533</td><td>1.226858714511493</td><td>11.283903994260713</td><td>250.22911948484818</td><td>11.513609792247616</td><td>24.439999999999994</td><td>365.3788027876102</td><td>0.0</td></tr>\n",
       "<tr><td>604898555404553344</td><td>11.847289731707303</td><td>0.16000000000000458</td><td>1.0418221017795046</td><td>1.2183768148100893</td><td>11.462466606052178</td><td>22.86146440476188</td><td>11.487981278519742</td><td>4.530000000000001</td><td>635.1969956153838</td><td>0.0</td></tr>\n",
       "<tr><td>604900754427832448</td><td>11.433129868314168</td><td>0.019999999999997797</td><td>1.0218399859952465</td><td>1.0539840021566413</td><td>11.804989177264293</td><td>12.209246454284068</td><td>11.484785734353254</td><td>0.9600000000000053</td><td>645.1219486718742</td><td>0.0</td></tr>\n",
       "<tr><td>604905843964711680</td><td>17.25357489134975</td><td>0.0</td><td>1.0403643839766799</td><td>1.5415886050296819</td><td>16.77002628554019</td><td>18.124585037313413</td><td>11.481591967463835</td><td>1.3499999999999956</td><td>645.1219486718742</td><td>0.0</td></tr>\n",
       "<tr><td>604910581313043584</td><td>7.989126299342095</td><td>0.0</td><td>1.03235100951069</td><td>1.618014552077335</td><td>8.2509601748601</td><td>12.802420066666649</td><td>11.491178601447244</td><td>6.45</td><td>645.1219486718742</td><td>0.0</td></tr>\n",
       "<tr><td>604911886983070720</td><td>25.42352507081278</td><td>0.0</td><td>1.0401889356797545</td><td>1.205866449775004</td><td>25.918270379786534</td><td>24.27266591122866</td><td>8.193650469339143</td><td>23.329999999999995</td><td>371.96220463963914</td><td>0.0</td></tr>\n",
       "<tr><td>604912917781019008</td><td>9.927339436162526</td><td>0.5199999999999982</td><td>1.0052538165910063</td><td>1.4691629996048434</td><td>10.20964508283876</td><td>93.62313994331055</td><td>11.481591967463835</td><td>0.5499999999999949</td><td>378.787199220183</td><td>0.0</td></tr>\n",
       "<tr><td>604922023105989888</td><td>8.198531516084184</td><td>0.039999999999995595</td><td>1.0752338662425582</td><td>1.1126145896618727</td><td>8.381608752537545</td><td>8.100412932116921</td><td>11.487981278519742</td><td>1.4000000000000012</td><td>378.787199220183</td><td>0.0</td></tr>\n",
       "<tr><td>604922229264424448</td><td>9.774574979876883</td><td>0.039999999999995595</td><td>1.0304831843436932</td><td>1.2993143391603856</td><td>10.038367302455617</td><td>7.139513179145763</td><td>11.507191949554054</td><td>17.879999999999995</td><td>375.3436792272723</td><td>0.0</td></tr>\n",
       "<tr><td>604942879467199360</td><td>25.175490679878024</td><td>0.12999999999999678</td><td>1.0216138911610158</td><td>1.0559833953112403</td><td>24.215721240469183</td><td>164.49324587649383</td><td>6.426117465369643</td><td>48.34</td><td>645.1219486718742</td><td>0.0</td></tr>\n",
       "<tr><td>604971466769552128</td><td>13.850320266689012</td><td>0.12999999999999678</td><td>1.0030294361094945</td><td>1.1063636264349703</td><td>13.348789109279002</td><td>13.599408667654792</td><td>11.339688194177409</td><td>70.95</td><td>607.1735987499992</td><td>0.04999999999999449</td></tr>\n",
       "<tr><td>605013145137827072</td><td>25.221627803909563</td><td>0.0</td><td>1.0445880620274581</td><td>1.1244621702467135</td><td>24.301238796350766</td><td>317.59849780769196</td><td>11.481591967463835</td><td>3.1200000000000006</td><td>645.1219486718742</td><td>0.0</td></tr>\n",
       "</table>"
      ],
      "text/plain": [
       "<Table length=15>\n",
       "     gaia_ID           lc_period      ...     zpc_period           zpc_FAP      \n",
       "      int64             float64       ...      float64             float64      \n",
       "------------------ ------------------ ... ------------------ -------------------\n",
       "598903090297061760  22.23654941680784 ...  635.1969956153838                 0.0\n",
       "604711505283863808 4.9505761049160615 ...  645.1219486718742                 0.0\n",
       "604895467323840256 13.590455798222496 ...  655.3619796031737                 0.0\n",
       "604898113023653888 11.656636000846964 ...  365.3788027876102                 0.0\n",
       "604898555404553344 11.847289731707303 ...  635.1969956153838                 0.0\n",
       "604900754427832448 11.433129868314168 ...  645.1219486718742                 0.0\n",
       "604905843964711680  17.25357489134975 ...  645.1219486718742                 0.0\n",
       "604910581313043584  7.989126299342095 ...  645.1219486718742                 0.0\n",
       "604911886983070720  25.42352507081278 ... 371.96220463963914                 0.0\n",
       "604912917781019008  9.927339436162526 ...   378.787199220183                 0.0\n",
       "604922023105989888  8.198531516084184 ...   378.787199220183                 0.0\n",
       "604922229264424448  9.774574979876883 ...  375.3436792272723                 0.0\n",
       "604942879467199360 25.175490679878024 ...  645.1219486718742                 0.0\n",
       "604971466769552128 13.850320266689012 ...  607.1735987499992 0.04999999999999449\n",
       "605013145137827072 25.221627803909563 ...  645.1219486718742                 0.0"
      ]
     },
     "execution_count": 78,
     "metadata": {},
     "output_type": "execute_result"
    }
   ],
   "source": [
    "lowfap_m67[np.abs(lowfap_m67['lc_period']- lowfap_m67['period1']) < 1]"
   ]
  },
  {
   "cell_type": "code",
   "execution_count": 77,
   "metadata": {},
   "outputs": [
    {
     "data": {
      "application/vnd.jupyter.widget-view+json": {
       "model_id": "460198d508f74efb8cb1c9099ea026cd",
       "version_major": 2,
       "version_minor": 0
      },
      "text/plain": [
       "Canvas(toolbar=Toolbar(toolitems=[('Home', 'Reset original view', 'home', 'home'), ('Back', 'Back to previous …"
      ]
     },
     "metadata": {},
     "output_type": "display_data"
    },
    {
     "data": {
      "text/plain": [
       "(array([ 1.,  0.,  0.,  0.,  1.,  1.,  0.,  0.,  0.,  1.,  2.,  1.,  1.,\n",
       "         0.,  0.,  1.,  1.,  1.,  1.,  2.,  1.,  2.,  1.,  4.,  2.,  2.,\n",
       "         0.,  2.,  2.,  2.,  0.,  1.,  0.,  4.,  3.,  2.,  4.,  2.,  6.,\n",
       "         5.,  9., 49., 33.,  7.,  4.,  3.,  2.,  0.,  3.,  1.,  1.,  1.,\n",
       "         2.,  0.,  3.,  2.,  2.,  0.,  0.,  2.,  0.,  0.,  0.,  0.,  0.,\n",
       "         1.,  1.,  0.,  1.,  0.,  0.,  0.,  1.,  1.,  0.,  0.,  1.,  1.,\n",
       "         0.,  0.,  0.,  0.,  2.,  2.,  0.,  0.,  0.,  0.,  0.,  0.,  2.,\n",
       "         0.,  0.,  0.,  0.,  0.,  0.,  1.,  3.,  3.]),\n",
       " array([-583.22325424, -569.29455246, -555.36585068, -541.4371489 ,\n",
       "        -527.50844713, -513.57974535, -499.65104357, -485.72234179,\n",
       "        -471.79364002, -457.86493824, -443.93623646, -430.00753468,\n",
       "        -416.07883291, -402.15013113, -388.22142935, -374.29272757,\n",
       "        -360.3640258 , -346.43532402, -332.50662224, -318.57792046,\n",
       "        -304.64921869, -290.72051691, -276.79181513, -262.86311335,\n",
       "        -248.93441158, -235.0057098 , -221.07700802, -207.14830624,\n",
       "        -193.21960447, -179.29090269, -165.36220091, -151.43349913,\n",
       "        -137.50479736, -123.57609558, -109.6473938 ,  -95.71869202,\n",
       "         -81.78999024,  -67.86128847,  -53.93258669,  -40.00388491,\n",
       "         -26.07518313,  -12.14648136,    1.78222042,   15.7109222 ,\n",
       "          29.63962398,   43.56832575,   57.49702753,   71.42572931,\n",
       "          85.35443109,   99.28313286,  113.21183464,  127.14053642,\n",
       "         141.0692382 ,  154.99793997,  168.92664175,  182.85534353,\n",
       "         196.78404531,  210.71274708,  224.64144886,  238.57015064,\n",
       "         252.49885242,  266.42755419,  280.35625597,  294.28495775,\n",
       "         308.21365953,  322.1423613 ,  336.07106308,  349.99976486,\n",
       "         363.92846664,  377.85716841,  391.78587019,  405.71457197,\n",
       "         419.64327375,  433.57197552,  447.5006773 ,  461.42937908,\n",
       "         475.35808086,  489.28678263,  503.21548441,  517.14418619,\n",
       "         531.07288797,  545.00158974,  558.93029152,  572.8589933 ,\n",
       "         586.78769508,  600.71639685,  614.64509863,  628.57380041,\n",
       "         642.50250219,  656.43120396,  670.35990574,  684.28860752,\n",
       "         698.2173093 ,  712.14601107,  726.07471285,  740.00341463,\n",
       "         753.93211641,  767.86081819,  781.78951996,  795.71822174,\n",
       "         809.64692352]),\n",
       " <a list of 100 Patch objects>)"
      ]
     },
     "execution_count": 77,
     "metadata": {},
     "output_type": "execute_result"
    }
   ],
   "source": [
    "fig, ax = plt.subplots(1, 1, figsize=(6, 6), dpi=150)\n",
    "\n",
    "ax.hist(lowfap_m67['lc_period']- lowfap_m67['period1'], bins=100)"
   ]
  },
  {
   "cell_type": "code",
   "execution_count": 32,
   "metadata": {},
   "outputs": [],
   "source": [
    "plt.close(\"all\")"
   ]
  },
  {
   "cell_type": "code",
   "execution_count": 89,
   "metadata": {},
   "outputs": [
    {
     "data": {
      "application/vnd.jupyter.widget-view+json": {
       "model_id": "2f30148fd9234fba834622e54aaa1aa5",
       "version_major": 2,
       "version_minor": 0
      },
      "text/plain": [
       "Canvas(toolbar=Toolbar(toolitems=[('Home', 'Reset original view', 'home', 'home'), ('Back', 'Back to previous …"
      ]
     },
     "metadata": {},
     "output_type": "display_data"
    }
   ],
   "source": [
    "rng = np.random.default_rng()\n",
    "\n",
    "import numpy as np\n",
    "import matplotlib.pyplot as plt\n",
    "fig = plt.figure()\n",
    "ax = fig.add_subplot(111)\n",
    "ax.plot(rng.normal(size=100), rng.normal(size=100), 'o')\n"
   ]
  },
  {
   "cell_type": "code",
   "execution_count": null,
   "metadata": {},
   "outputs": [],
   "source": []
  }
 ],
 "metadata": {
  "kernelspec": {
   "display_name": "Python 3.6.8 64-bit ('ehu-venv': venv)",
   "language": "python",
   "name": "python36864bitehuvenvvenv992f46618f1644c59e1ec2643de6dbc6"
  },
  "language_info": {
   "codemirror_mode": {
    "name": "ipython",
    "version": 3
   },
   "file_extension": ".py",
   "mimetype": "text/x-python",
   "name": "python",
   "nbconvert_exporter": "python",
   "pygments_lexer": "ipython3",
   "version": "3.6.8"
  }
 },
 "nbformat": 4,
 "nbformat_minor": 4
}
